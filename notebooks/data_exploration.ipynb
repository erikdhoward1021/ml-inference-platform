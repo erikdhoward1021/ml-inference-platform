{
 "cells": [
  {
   "cell_type": "code",
   "execution_count": 1,
   "id": "19064eac",
   "metadata": {},
   "outputs": [],
   "source": [
    "import sys\n",
    "sys.path.append('..')"
   ]
  },
  {
   "cell_type": "code",
   "execution_count": 2,
   "id": "e85f8233",
   "metadata": {},
   "outputs": [],
   "source": [
    "from src.data.loaders import BookDataLoader"
   ]
  },
  {
   "cell_type": "code",
   "execution_count": 3,
   "id": "1483ee31",
   "metadata": {},
   "outputs": [
    {
     "name": "stdout",
     "output_type": "stream",
     "text": [
      "{'books': {'count': 271360, 'unique_isbns': 271360, 'missing_titles': 0}, 'ratings': {'count': 1149780, 'unique_users': 105283, 'unique_books': 340556, 'rating_range': (0, 10)}, 'users': {'count': 278858, 'unique_users': 278858}}\n"
     ]
    }
   ],
   "source": [
    "loader = BookDataLoader(data_dir='../data/raw')\n",
    "stats = loader.validate_data()\n",
    "print(stats)"
   ]
  },
  {
   "cell_type": "code",
   "execution_count": 4,
   "id": "c89b4b30",
   "metadata": {},
   "outputs": [
    {
     "name": "stdout",
     "output_type": "stream",
     "text": [
      "Books shape: (271360, 8)\n",
      "Ratings shape: (1149780, 3)\n",
      "Users shape: (278858, 3)\n"
     ]
    }
   ],
   "source": [
    "books, ratings, users = loader.load_all()\n",
    "print(f\"Books shape: {books.shape}\")\n",
    "print(f\"Ratings shape: {ratings.shape}\")\n",
    "print(f\"Users shape: {users.shape}\")"
   ]
  }
 ],
 "metadata": {
  "kernelspec": {
   "display_name": "ml-inference-platform (3.12.11)",
   "language": "python",
   "name": "python3"
  },
  "language_info": {
   "codemirror_mode": {
    "name": "ipython",
    "version": 3
   },
   "file_extension": ".py",
   "mimetype": "text/x-python",
   "name": "python",
   "nbconvert_exporter": "python",
   "pygments_lexer": "ipython3",
   "version": "3.12.11"
  }
 },
 "nbformat": 4,
 "nbformat_minor": 5
}
